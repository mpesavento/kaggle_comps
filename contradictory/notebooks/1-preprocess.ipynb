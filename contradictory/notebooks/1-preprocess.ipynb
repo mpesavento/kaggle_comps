{
 "cells": [
  {
   "cell_type": "markdown",
   "id": "528b3511-08a2-40c8-b2a9-55cb5b69c077",
   "metadata": {},
   "source": [
    "# Classify contradictory sentences using an LLM\n",
    "We want to classify contradictory sentences, as per the [Contradictory, My dear Watson](https://www.kaggle.com/competitions/contradictory-my-dear-watson/overview) challenge on Kaggle.\n",
    "\n",
    "Here we preprocess and split the data, storing it as Artifacts and Tables in Weights&Biases.\n",
    "\n",
    "\n"
   ]
  },
  {
   "cell_type": "code",
   "execution_count": 1,
   "id": "c99b8fda-18a5-4488-ba69-fc3db185cd23",
   "metadata": {},
   "outputs": [],
   "source": [
    "# imports\n",
    "import os\n",
    "from pathlib import Path\n",
    "import warnings\n",
    "import pandas as pd\n",
    "import numpy as np\n",
    "import kaggle\n",
    "import wandb\n",
    "import tqdm\n",
    "\n",
    "import torch\n",
    "from sklearn.model_selection import StratifiedKFold\n",
    "\n",
    "warnings.filterwarnings('ignore')\n",
    "\n",
    "# Constants\n",
    "DATA_PATH = \"data\"\n",
    "WANDB_PROJECT = \"contradictory\"\n",
    "RAW_DATA_AT = \"contra_raw\"\n",
    "PROCESSED_DATA_AT = \"contra_split\""
   ]
  },
  {
   "cell_type": "code",
   "execution_count": 2,
   "id": "c395d00c-2351-4427-842f-7b8400630b73",
   "metadata": {},
   "outputs": [
    {
     "name": "stdout",
     "output_type": "stream",
     "text": [
      "Found MPS, may not work on some torch ops!\n"
     ]
    }
   ],
   "source": []
  },
  {
   "cell_type": "markdown",
   "id": "ddf85460-6332-44e6-bb9f-2e272a068b41",
   "metadata": {},
   "source": [
    "## Preprocess the data\n",
    "First step is to download and preprocess the data."
   ]
  },
  {
   "cell_type": "code",
   "execution_count": 3,
   "id": "7fd1d7ea-01d2-44a7-93da-316b9036b696",
   "metadata": {},
   "outputs": [
    {
     "name": "stdout",
     "output_type": "stream",
     "text": [
      "contradictory-my-dear-watson.zip: Skipping, found more recently modified local copy (use --force to force download)\n",
      "Archive:  contradictory-my-dear-watson.zip\n",
      "  inflating: sample_submission.csv   \n",
      "  inflating: test.csv                \n",
      "  inflating: train.csv               \n"
     ]
    }
   ],
   "source": [
    "# load the data, downloading if it doesnt already exist\n",
    "\n",
    "!pushd data && kaggle competitions download -c contradictory-my-dear-watson \\\n",
    "&& unzip -o contradictory-my-dear-watson && popd\n",
    "TRAIN_PATH = os.path.join(DATA_PATH, \"train.csv\")\n",
    "TEST_PATH = os.path.join(DATA_PATH, \"test.csv\")\n",
    "SUBMISSION_PATH = os.path.join(DATA_PATH, \"sample_submission.csv\")"
   ]
  },
  {
   "cell_type": "code",
   "execution_count": 4,
   "id": "c5a1d2bc-cbe1-4128-b2de-a1f3e57f95d8",
   "metadata": {},
   "outputs": [
    {
     "name": "stdout",
     "output_type": "stream",
     "text": [
      "raw data shape: (12120, 6)\n",
      "Submit shape: (5195, 5)\n"
     ]
    }
   ],
   "source": [
    "raw_data_df = pd.read_csv(TRAIN_PATH)\n",
    "submit_df = pd.read_csv(TEST_PATH)\n",
    "sample_submission_df = pd.read_csv(SUBMISSION_PATH)  # just contains 'id' and 'prediction' label, example format for submitting\n",
    "\n",
    "id2label = {0: \"entailment\", 1: \"neutral\", 2: \"contradiction\"}\n",
    "label2id = {v:k for k,v in id2label.items()}\n",
    "\n",
    "print(\"raw data shape:\", raw_data_df.shape)\n",
    "print(\"Submit shape:\", submit_df.shape)"
   ]
  },
  {
   "cell_type": "code",
   "execution_count": 5,
   "id": "9caf650f-1235-4c8c-b74f-1827e71534b2",
   "metadata": {},
   "outputs": [
    {
     "data": {
      "text/html": [
       "<div>\n",
       "<style scoped>\n",
       "    .dataframe tbody tr th:only-of-type {\n",
       "        vertical-align: middle;\n",
       "    }\n",
       "\n",
       "    .dataframe tbody tr th {\n",
       "        vertical-align: top;\n",
       "    }\n",
       "\n",
       "    .dataframe thead th {\n",
       "        text-align: right;\n",
       "    }\n",
       "</style>\n",
       "<table border=\"1\" class=\"dataframe\">\n",
       "  <thead>\n",
       "    <tr style=\"text-align: right;\">\n",
       "      <th></th>\n",
       "      <th>id</th>\n",
       "      <th>premise</th>\n",
       "      <th>hypothesis</th>\n",
       "      <th>lang_abv</th>\n",
       "      <th>language</th>\n",
       "      <th>label</th>\n",
       "      <th>label_str</th>\n",
       "    </tr>\n",
       "  </thead>\n",
       "  <tbody>\n",
       "    <tr>\n",
       "      <th>0</th>\n",
       "      <td>5130fd2cb5</td>\n",
       "      <td>and these comments were considered in formulat...</td>\n",
       "      <td>The rules developed in the interim were put to...</td>\n",
       "      <td>en</td>\n",
       "      <td>English</td>\n",
       "      <td>0</td>\n",
       "      <td>entailment</td>\n",
       "    </tr>\n",
       "    <tr>\n",
       "      <th>1</th>\n",
       "      <td>5b72532a0b</td>\n",
       "      <td>These are issues that we wrestle with in pract...</td>\n",
       "      <td>Practice groups are not permitted to work on t...</td>\n",
       "      <td>en</td>\n",
       "      <td>English</td>\n",
       "      <td>2</td>\n",
       "      <td>contradiction</td>\n",
       "    </tr>\n",
       "    <tr>\n",
       "      <th>2</th>\n",
       "      <td>3931fbe82a</td>\n",
       "      <td>Des petites choses comme celles-là font une di...</td>\n",
       "      <td>J'essayais d'accomplir quelque chose.</td>\n",
       "      <td>fr</td>\n",
       "      <td>French</td>\n",
       "      <td>0</td>\n",
       "      <td>entailment</td>\n",
       "    </tr>\n",
       "    <tr>\n",
       "      <th>3</th>\n",
       "      <td>5622f0c60b</td>\n",
       "      <td>you know they can't really defend themselves l...</td>\n",
       "      <td>They can't defend themselves because of their ...</td>\n",
       "      <td>en</td>\n",
       "      <td>English</td>\n",
       "      <td>0</td>\n",
       "      <td>entailment</td>\n",
       "    </tr>\n",
       "    <tr>\n",
       "      <th>4</th>\n",
       "      <td>86aaa48b45</td>\n",
       "      <td>ในการเล่นบทบาทสมมุติก็เช่นกัน โอกาสที่จะได้แสด...</td>\n",
       "      <td>เด็กสามารถเห็นได้ว่าชาติพันธุ์แตกต่างกันอย่างไร</td>\n",
       "      <td>th</td>\n",
       "      <td>Thai</td>\n",
       "      <td>1</td>\n",
       "      <td>neutral</td>\n",
       "    </tr>\n",
       "  </tbody>\n",
       "</table>\n",
       "</div>"
      ],
      "text/plain": [
       "           id                                            premise  \\\n",
       "0  5130fd2cb5  and these comments were considered in formulat...   \n",
       "1  5b72532a0b  These are issues that we wrestle with in pract...   \n",
       "2  3931fbe82a  Des petites choses comme celles-là font une di...   \n",
       "3  5622f0c60b  you know they can't really defend themselves l...   \n",
       "4  86aaa48b45  ในการเล่นบทบาทสมมุติก็เช่นกัน โอกาสที่จะได้แสด...   \n",
       "\n",
       "                                          hypothesis lang_abv language  label  \\\n",
       "0  The rules developed in the interim were put to...       en  English      0   \n",
       "1  Practice groups are not permitted to work on t...       en  English      2   \n",
       "2              J'essayais d'accomplir quelque chose.       fr   French      0   \n",
       "3  They can't defend themselves because of their ...       en  English      0   \n",
       "4    เด็กสามารถเห็นได้ว่าชาติพันธุ์แตกต่างกันอย่างไร       th     Thai      1   \n",
       "\n",
       "       label_str  \n",
       "0     entailment  \n",
       "1  contradiction  \n",
       "2     entailment  \n",
       "3     entailment  \n",
       "4        neutral  "
      ]
     },
     "execution_count": 5,
     "metadata": {},
     "output_type": "execute_result"
    }
   ],
   "source": [
    "raw_data_df[\"label_str\"] = raw_data_df.label.map(lambda x: id2label[int(x)])\n",
    "raw_data_df.head()"
   ]
  },
  {
   "cell_type": "code",
   "execution_count": 6,
   "id": "c6fe0b5b-a7c1-43ec-ae87-82fd465c4306",
   "metadata": {},
   "outputs": [],
   "source": [
    "SEED = 98765\n",
    "\n",
    "def seed_everything(seed):\n",
    "    os.environ['PYTHONHASHSEED']=str(seed)\n",
    "    torch.manual_seed(seed)\n",
    "    np.random.seed(seed)\n",
    "    # random.seed(seed)\n",
    "    \n",
    "seed_everything(SEED)"
   ]
  },
  {
   "cell_type": "raw",
   "id": "810df94f-c2dd-49c5-a5ff-c09c018b6de4",
   "metadata": {},
   "source": [
    "# for TPU\n",
    "# see more here:\n",
    "# https://www.kaggle.com/code/tanlikesmath/the-ultimate-pytorch-tpu-tutorial-jigsaw-xlm-r\n",
    "\n",
    "import torch_xla\n",
    "import torch_xla.core.xla_model as xm"
   ]
  },
  {
   "cell_type": "code",
   "execution_count": 7,
   "id": "a5941a28-0bd0-4377-baa0-af24c834e16a",
   "metadata": {},
   "outputs": [
    {
     "name": "stdout",
     "output_type": "stream",
     "text": [
      "Premise: and these comments were considered in formulating the interim rules.\n",
      "Hypothesis: The rules developed in the interim were put together with these comments in mind.\n",
      "Label: 0\n"
     ]
    }
   ],
   "source": [
    "#peek at a premise/hypothesis pair and their label\n",
    "print(f\"Premise: {raw_data_df['premise'].values[0]}\")\n",
    "print(f\"Hypothesis: {raw_data_df['hypothesis'].values[0]}\")\n",
    "print(f\"Label: {raw_data_df['label'].values[0]}\")"
   ]
  },
  {
   "cell_type": "code",
   "execution_count": 8,
   "id": "78551bc1-1fc1-4987-9238-906c338b1244",
   "metadata": {},
   "outputs": [],
   "source": [
    "# create wandb Table\n",
    "table = wandb.Table(dataframe=raw_data_df)\n"
   ]
  },
  {
   "cell_type": "code",
   "execution_count": 9,
   "id": "f91b7b9c-d0f1-4e33-97d9-b0414216a3ca",
   "metadata": {},
   "outputs": [
    {
     "name": "stderr",
     "output_type": "stream",
     "text": [
      "\u001b[34m\u001b[1mwandb\u001b[0m: Currently logged in as: \u001b[33mmpesavento\u001b[0m. Use \u001b[1m`wandb login --relogin`\u001b[0m to force relogin\n"
     ]
    },
    {
     "data": {
      "text/html": [
       "Tracking run with wandb version 0.15.8"
      ],
      "text/plain": [
       "<IPython.core.display.HTML object>"
      ]
     },
     "metadata": {},
     "output_type": "display_data"
    },
    {
     "data": {
      "text/html": [
       "Run data is saved locally in <code>/Users/mpesavento/src/kaggle_comps/contradictory/notebooks/wandb/run-20230814_215720-r5j1mgbt</code>"
      ],
      "text/plain": [
       "<IPython.core.display.HTML object>"
      ]
     },
     "metadata": {},
     "output_type": "display_data"
    },
    {
     "data": {
      "text/html": [
       "Syncing run <strong><a href='https://wandb.ai/mpesavento/contradictory/runs/r5j1mgbt' target=\"_blank\">twilight-snowball-11</a></strong> to <a href='https://wandb.ai/mpesavento/contradictory' target=\"_blank\">Weights & Biases</a> (<a href='https://wandb.me/run' target=\"_blank\">docs</a>)<br/>"
      ],
      "text/plain": [
       "<IPython.core.display.HTML object>"
      ]
     },
     "metadata": {},
     "output_type": "display_data"
    },
    {
     "data": {
      "text/html": [
       " View project at <a href='https://wandb.ai/mpesavento/contradictory' target=\"_blank\">https://wandb.ai/mpesavento/contradictory</a>"
      ],
      "text/plain": [
       "<IPython.core.display.HTML object>"
      ]
     },
     "metadata": {},
     "output_type": "display_data"
    },
    {
     "data": {
      "text/html": [
       " View run at <a href='https://wandb.ai/mpesavento/contradictory/runs/r5j1mgbt' target=\"_blank\">https://wandb.ai/mpesavento/contradictory/runs/r5j1mgbt</a>"
      ],
      "text/plain": [
       "<IPython.core.display.HTML object>"
      ]
     },
     "metadata": {},
     "output_type": "display_data"
    }
   ],
   "source": [
    "# start W&B run and put tables into new Artifact\n",
    "run = wandb.init(project=WANDB_PROJECT, entity=None, job_type=\"upload\")\n",
    "raw_data_at = wandb.Artifact(RAW_DATA_AT, type=\"raw_data\")"
   ]
  },
  {
   "cell_type": "code",
   "execution_count": 10,
   "id": "536cf7bf-4bdc-4742-866d-6abeb5931420",
   "metadata": {},
   "outputs": [
    {
     "data": {
      "text/html": [
       "Waiting for W&B process to finish... <strong style=\"color:green\">(success).</strong>"
      ],
      "text/plain": [
       "<IPython.core.display.HTML object>"
      ]
     },
     "metadata": {},
     "output_type": "display_data"
    },
    {
     "data": {
      "text/html": [
       " View run <strong style=\"color:#cdcd00\">twilight-snowball-11</strong> at: <a href='https://wandb.ai/mpesavento/contradictory/runs/r5j1mgbt' target=\"_blank\">https://wandb.ai/mpesavento/contradictory/runs/r5j1mgbt</a><br/> View job at <a href='https://wandb.ai/mpesavento/contradictory/jobs/QXJ0aWZhY3RDb2xsZWN0aW9uOjkwNTA5MDE1/version_details/v1' target=\"_blank\">https://wandb.ai/mpesavento/contradictory/jobs/QXJ0aWZhY3RDb2xsZWN0aW9uOjkwNTA5MDE1/version_details/v1</a><br/>Synced 5 W&B file(s), 0 media file(s), 0 artifact file(s) and 0 other file(s)"
      ],
      "text/plain": [
       "<IPython.core.display.HTML object>"
      ]
     },
     "metadata": {},
     "output_type": "display_data"
    },
    {
     "data": {
      "text/html": [
       "Find logs at: <code>./wandb/run-20230814_215720-r5j1mgbt/logs</code>"
      ],
      "text/plain": [
       "<IPython.core.display.HTML object>"
      ]
     },
     "metadata": {},
     "output_type": "display_data"
    }
   ],
   "source": [
    "# upload table\n",
    "raw_data_at.add(table, \"eda_table\")\n",
    "run.log_artifact(raw_data_at)\n",
    "run.finish()"
   ]
  },
  {
   "cell_type": "code",
   "execution_count": 11,
   "id": "b1ad2cad-9a89-4bb7-8653-0eae9145600d",
   "metadata": {},
   "outputs": [
    {
     "data": {
      "text/plain": [
       "language\n",
       "English       6870\n",
       "Chinese        411\n",
       "Arabic         401\n",
       "French         390\n",
       "Swahili        385\n",
       "Urdu           381\n",
       "Vietnamese     379\n",
       "Russian        376\n",
       "Hindi          374\n",
       "Greek          372\n",
       "Thai           371\n",
       "Spanish        366\n",
       "Turkish        351\n",
       "German         351\n",
       "Bulgarian      342\n",
       "Name: count, dtype: int64"
      ]
     },
     "execution_count": 11,
     "metadata": {},
     "output_type": "execute_result"
    }
   ],
   "source": [
    "raw_data_df.language.value_counts()"
   ]
  },
  {
   "cell_type": "code",
   "execution_count": 12,
   "id": "a2b62fff-50cc-4eed-904d-689eeccd093f",
   "metadata": {},
   "outputs": [
    {
     "name": "stdout",
     "output_type": "stream",
     "text": [
      "train data lang count: 15\n"
     ]
    }
   ],
   "source": [
    "print(\"train data lang count:\", raw_data_df.language.nunique())"
   ]
  },
  {
   "cell_type": "code",
   "execution_count": 13,
   "id": "08b09618-57ef-4842-9ee6-3aca04c1083d",
   "metadata": {},
   "outputs": [
    {
     "name": "stdout",
     "output_type": "stream",
     "text": [
      "Languages in raw/train not in submit/test: set()\n"
     ]
    }
   ],
   "source": [
    "# are there any languages in the test set that arent in the training set?\n",
    "language_set_diff = set(raw_data_df.language.unique()) - set(submit_df.language.unique())\n",
    "print(\"Languages in raw/train not in submit/test:\", language_set_diff)"
   ]
  },
  {
   "cell_type": "markdown",
   "id": "9052bdf1-f135-40d4-a1c3-7b147d928317",
   "metadata": {},
   "source": [
    "# Create Train/Validate/Test data split"
   ]
  },
  {
   "cell_type": "code",
   "execution_count": 14,
   "id": "d3a421d8-2be3-4f39-89ce-a02791259720",
   "metadata": {},
   "outputs": [
    {
     "data": {
      "application/vnd.jupyter.widget-view+json": {
       "model_id": "181dcc16581a430f812730939281a203",
       "version_major": 2,
       "version_minor": 0
      },
      "text/plain": [
       "VBox(children=(Label(value='Waiting for wandb.init()...\\r'), FloatProgress(value=0.016752521533392913, max=1.0…"
      ]
     },
     "metadata": {},
     "output_type": "display_data"
    },
    {
     "data": {
      "text/html": [
       "Tracking run with wandb version 0.15.8"
      ],
      "text/plain": [
       "<IPython.core.display.HTML object>"
      ]
     },
     "metadata": {},
     "output_type": "display_data"
    },
    {
     "data": {
      "text/html": [
       "Run data is saved locally in <code>/Users/mpesavento/src/kaggle_comps/contradictory/notebooks/wandb/run-20230814_215726-xbez8x5f</code>"
      ],
      "text/plain": [
       "<IPython.core.display.HTML object>"
      ]
     },
     "metadata": {},
     "output_type": "display_data"
    },
    {
     "data": {
      "text/html": [
       "Syncing run <strong><a href='https://wandb.ai/mpesavento/contradictory/runs/xbez8x5f' target=\"_blank\">ethereal-violet-12</a></strong> to <a href='https://wandb.ai/mpesavento/contradictory' target=\"_blank\">Weights & Biases</a> (<a href='https://wandb.me/run' target=\"_blank\">docs</a>)<br/>"
      ],
      "text/plain": [
       "<IPython.core.display.HTML object>"
      ]
     },
     "metadata": {},
     "output_type": "display_data"
    },
    {
     "data": {
      "text/html": [
       " View project at <a href='https://wandb.ai/mpesavento/contradictory' target=\"_blank\">https://wandb.ai/mpesavento/contradictory</a>"
      ],
      "text/plain": [
       "<IPython.core.display.HTML object>"
      ]
     },
     "metadata": {},
     "output_type": "display_data"
    },
    {
     "data": {
      "text/html": [
       " View run at <a href='https://wandb.ai/mpesavento/contradictory/runs/xbez8x5f' target=\"_blank\">https://wandb.ai/mpesavento/contradictory/runs/xbez8x5f</a>"
      ],
      "text/plain": [
       "<IPython.core.display.HTML object>"
      ]
     },
     "metadata": {},
     "output_type": "display_data"
    },
    {
     "name": "stderr",
     "output_type": "stream",
     "text": [
      "\u001b[34m\u001b[1mwandb\u001b[0m:   1 of 1 files downloaded.  \n"
     ]
    }
   ],
   "source": [
    "run = wandb.init(project=WANDB_PROJECT, entity=None, job_type=\"data_split\")\n",
    "raw_data_at = run.use_artifact(f'{RAW_DATA_AT}:latest')\n",
    "path = Path(raw_data_at.download())"
   ]
  },
  {
   "cell_type": "code",
   "execution_count": 15,
   "id": "17a88dac-4b07-430a-94cb-a61c6a7fe19b",
   "metadata": {},
   "outputs": [
    {
     "name": "stderr",
     "output_type": "stream",
     "text": [
      "\u001b[34m\u001b[1mwandb\u001b[0m:   1 of 1 files downloaded.  \n"
     ]
    }
   ],
   "source": [
    "orig_eda_table = raw_data_at.get(\"eda_table\")"
   ]
  },
  {
   "cell_type": "code",
   "execution_count": 16,
   "id": "5b35e849-ebf1-483a-a517-5b0459d24dbf",
   "metadata": {},
   "outputs": [],
   "source": [
    "df = pd.DataFrame()\n",
    "df = raw_data_df[['id', 'premise', 'hypothesis', 'lang_abv', 'label']].copy()\n",
    "df['fold'] = -1\n",
    "\n",
    "y = df['label']"
   ]
  },
  {
   "cell_type": "code",
   "execution_count": 17,
   "id": "93e5b046-cf7c-4ce9-979d-81cab8b96a59",
   "metadata": {},
   "outputs": [],
   "source": [
    "cv = StratifiedKFold(n_splits=10)\n",
    "for i, (train_idxs, test_idxs) in enumerate(cv.split(df, y)):\n",
    "    df.loc[test_idxs, ['fold']] = i"
   ]
  },
  {
   "cell_type": "code",
   "execution_count": 18,
   "id": "0d375810-e959-432a-8849-cfd8217be494",
   "metadata": {},
   "outputs": [
    {
     "data": {
      "text/plain": [
       "Stage\n",
       "train    9696\n",
       "test     1212\n",
       "valid    1212\n",
       "Name: count, dtype: int64"
      ]
     },
     "execution_count": 18,
     "metadata": {},
     "output_type": "execute_result"
    }
   ],
   "source": [
    "df['Stage'] = 'train'\n",
    "df.loc[df.fold == 0, ['Stage']] = 'test'\n",
    "df.loc[df.fold == 1, ['Stage']] = 'valid'\n",
    "del df['fold']\n",
    "df.Stage.value_counts()"
   ]
  },
  {
   "cell_type": "code",
   "execution_count": 19,
   "id": "8f862100-8520-416f-b272-96bdca91ca63",
   "metadata": {},
   "outputs": [],
   "source": [
    "df.to_csv(os.path.join(DATA_PATH, 'data_split.csv'), index=False)"
   ]
  },
  {
   "cell_type": "code",
   "execution_count": 20,
   "id": "20a05b22-9033-41d7-b651-7aa1c5ba9666",
   "metadata": {},
   "outputs": [
    {
     "data": {
      "text/plain": [
       "<wandb.sdk.artifacts.artifact_manifest_entry.ArtifactManifestEntry at 0x187e308d0>"
      ]
     },
     "execution_count": 20,
     "metadata": {},
     "output_type": "execute_result"
    }
   ],
   "source": [
    "# create & push artifacts to WandB\n",
    "processed_data_at = wandb.Artifact(PROCESSED_DATA_AT, type=\"split_data\")\n",
    "processed_data_at.add_file(os.path.join(DATA_PATH, 'data_split.csv'))"
   ]
  },
  {
   "cell_type": "markdown",
   "id": "b3b9b62c-302b-4e38-a861-c5d2277de7ac",
   "metadata": {},
   "source": [
    "Totally unnecessary to do the WandB join on a Table, but it's a good practice and avoids duplicating the existing data in the artifact."
   ]
  },
  {
   "cell_type": "code",
   "execution_count": 21,
   "id": "4e477dc9-1938-4296-a778-3490276042ad",
   "metadata": {},
   "outputs": [
    {
     "data": {
      "text/plain": [
       "Index(['id', 'premise', 'hypothesis', 'lang_abv', 'label', 'Stage'], dtype='object')"
      ]
     },
     "execution_count": 21,
     "metadata": {},
     "output_type": "execute_result"
    }
   ],
   "source": [
    "df.columns"
   ]
  },
  {
   "cell_type": "code",
   "execution_count": 22,
   "id": "74b46a80-98f5-4889-997c-633ebb588796",
   "metadata": {},
   "outputs": [
    {
     "name": "stderr",
     "output_type": "stream",
     "text": [
      "\u001b[34m\u001b[1mwandb\u001b[0m:   1 of 1 files downloaded.  \n"
     ]
    },
    {
     "data": {
      "text/plain": [
       "<wandb.sdk.artifacts.artifact_manifest_entry.ArtifactManifestEntry at 0x1882280d0>"
      ]
     },
     "execution_count": 22,
     "metadata": {},
     "output_type": "execute_result"
    }
   ],
   "source": [
    "orig_eda_table = raw_data_at.get(\"eda_table\")\n",
    "data_split_table = wandb.Table(dataframe=df[['id', 'Stage']])\n",
    "join_table = wandb.JoinedTable(orig_eda_table, data_split_table, \"id\")\n",
    "processed_data_at.add(join_table, \"eda_table_data_split\")"
   ]
  },
  {
   "cell_type": "code",
   "execution_count": 23,
   "id": "1e0afb92-eb5d-4769-a777-b99c62dcf10e",
   "metadata": {},
   "outputs": [
    {
     "data": {
      "text/html": [
       "Waiting for W&B process to finish... <strong style=\"color:green\">(success).</strong>"
      ],
      "text/plain": [
       "<IPython.core.display.HTML object>"
      ]
     },
     "metadata": {},
     "output_type": "display_data"
    },
    {
     "data": {
      "text/html": [
       " View run <strong style=\"color:#cdcd00\">ethereal-violet-12</strong> at: <a href='https://wandb.ai/mpesavento/contradictory/runs/xbez8x5f' target=\"_blank\">https://wandb.ai/mpesavento/contradictory/runs/xbez8x5f</a><br/> View job at <a href='https://wandb.ai/mpesavento/contradictory/jobs/QXJ0aWZhY3RDb2xsZWN0aW9uOjkwNTA5MDE1/version_details/v1' target=\"_blank\">https://wandb.ai/mpesavento/contradictory/jobs/QXJ0aWZhY3RDb2xsZWN0aW9uOjkwNTA5MDE1/version_details/v1</a><br/>Synced 6 W&B file(s), 0 media file(s), 3 artifact file(s) and 0 other file(s)"
      ],
      "text/plain": [
       "<IPython.core.display.HTML object>"
      ]
     },
     "metadata": {},
     "output_type": "display_data"
    },
    {
     "data": {
      "text/html": [
       "Find logs at: <code>./wandb/run-20230814_215726-xbez8x5f/logs</code>"
      ],
      "text/plain": [
       "<IPython.core.display.HTML object>"
      ]
     },
     "metadata": {},
     "output_type": "display_data"
    }
   ],
   "source": [
    "run.log_artifact(processed_data_at)\n",
    "run.finish()"
   ]
  },
  {
   "cell_type": "code",
   "execution_count": null,
   "id": "8688536c-fd96-4358-beba-3c338d2c6ea5",
   "metadata": {},
   "outputs": [],
   "source": []
  },
  {
   "cell_type": "code",
   "execution_count": null,
   "id": "8fd4d6f3-cbb8-4a47-a418-01e5eae3c838",
   "metadata": {},
   "outputs": [],
   "source": []
  }
 ],
 "metadata": {
  "kernelspec": {
   "display_name": "contradict",
   "language": "python",
   "name": "contradict"
  },
  "language_info": {
   "codemirror_mode": {
    "name": "ipython",
    "version": 3
   },
   "file_extension": ".py",
   "mimetype": "text/x-python",
   "name": "python",
   "nbconvert_exporter": "python",
   "pygments_lexer": "ipython3",
   "version": "3.11.4"
  }
 },
 "nbformat": 4,
 "nbformat_minor": 5
}
